{
 "cells": [
  {
   "cell_type": "markdown",
   "id": "20670d93",
   "metadata": {},
   "source": [
    "<h1 style='color: #00A78C; font-size: 34px; font-weight: bold;'>Analise Vendas Delivery\n",
    "\n",
    "\n",
    "</h1>\n"
   ]
  },
  {
   "cell_type": "markdown",
   "id": "e6ab5255",
   "metadata": {},
   "source": [
    "# <font color=\"#FFA17A\" style=\"font-size: 30px;\">Objetivo</font>\n",
    "<hr style=\"border: 2px solid #FFA17A;\">"
   ]
  },
  {
   "cell_type": "markdown",
   "id": "7fd18cc4",
   "metadata": {},
   "source": [
    " <p style='font-size: 23px; line-height: 2; margin: 0px 0px; text-align: justify; text-indent: 0px;'>    \n",
    "<i><b>Utilizar comandos SQL para realizar análises conjuntas em um banco de dados com informações diversas sobre vendas de sucos</b></i>     \n",
    "</p>\n",
    "\n",
    "---"
   ]
  },
  {
   "cell_type": "code",
   "execution_count": 2,
   "id": "0f477493",
   "metadata": {},
   "outputs": [],
   "source": [
    "# importando bibliotecas necessárias"
   ]
  },
  {
   "cell_type": "code",
   "execution_count": 27,
   "id": "9e7a0175",
   "metadata": {},
   "outputs": [],
   "source": [
    "import pandas as pd\n",
    "import matplotlib.pyplot as plt\n",
    "import numpy as np\n",
    "import os\n",
    "from datetime import datetime\n",
    "from sqlalchemy import create_engine, MetaData, Table, select, inspect, text"
   ]
  },
  {
   "cell_type": "code",
   "execution_count": 4,
   "id": "659beb66",
   "metadata": {},
   "outputs": [
    {
     "name": "stdout",
     "output_type": "stream",
     "text": [
      "Requirement already satisfied: pymysql in c:\\users\\migue\\anaconda3\\lib\\site-packages (1.1.0)\n"
     ]
    }
   ],
   "source": [
    "!pip install pymysql"
   ]
  },
  {
   "cell_type": "code",
   "execution_count": 19,
   "id": "8f387878",
   "metadata": {},
   "outputs": [],
   "source": [
    "caminhos = [os.path.join(\"Tabelas\", \"channels.csv\"),\n",
    "os.path.join(\"Tabelas\", \"deliveries.csv\"),\n",
    "os.path.join(\"Tabelas\", \"drivers.csv\"),\n",
    "os.path.join(\"Tabelas\", \"hubs.csv\"),\n",
    "os.path.join(\"Tabelas\", \"payments.csv\"),\n",
    "os.path.join(\"Tabelas\", \"orders.csv\"),\n",
    "os.path.join(\"Tabelas\", \"stores.csv\")]\n",
    "\n",
    "dataframes = []\n"
   ]
  },
  {
   "cell_type": "code",
   "execution_count": 20,
   "id": "e62edb4a",
   "metadata": {
    "scrolled": true
   },
   "outputs": [],
   "source": [
    "canais =  pd.read_csv(caminhos[0])\n",
    "entregas = pd.read_csv(caminhos[1])\n",
    "motoristas = pd.read_csv(caminhos[2])\n",
    "centros_de_distribuicao = pd.read_csv(caminhos[3], encoding='latin-1')\n",
    "pagamentos = pd.read_csv(caminhos[4])\n",
    "pedidos = pd.read_csv(caminhos[5])\n",
    "lojas =pd.read_csv(caminhos[6],  encoding='latin-1')"
   ]
  },
  {
   "cell_type": "code",
   "execution_count": 21,
   "id": "8de68901",
   "metadata": {},
   "outputs": [
    {
     "data": {
      "text/plain": [
       "Index(['channel_id', 'channel_name', 'channel_type'], dtype='object')"
      ]
     },
     "metadata": {},
     "output_type": "display_data"
    },
    {
     "data": {
      "text/plain": [
       "Index(['delivery_id', 'delivery_order_id', 'driver_id',\n",
       "       'delivery_distance_meters', 'delivery_status'],\n",
       "      dtype='object')"
      ]
     },
     "metadata": {},
     "output_type": "display_data"
    },
    {
     "data": {
      "text/plain": [
       "Index(['driver_id', 'driver_modal', 'driver_type'], dtype='object')"
      ]
     },
     "metadata": {},
     "output_type": "display_data"
    },
    {
     "data": {
      "text/plain": [
       "Index(['hub_id', 'hub_name', 'hub_city', 'hub_state', 'hub_latitude',\n",
       "       'hub_longitude'],\n",
       "      dtype='object')"
      ]
     },
     "metadata": {},
     "output_type": "display_data"
    },
    {
     "data": {
      "text/plain": [
       "Index(['payment_id', 'payment_order_id', 'payment_amount', 'payment_fee',\n",
       "       'payment_method', 'payment_status'],\n",
       "      dtype='object')"
      ]
     },
     "metadata": {},
     "output_type": "display_data"
    },
    {
     "data": {
      "text/plain": [
       "Index(['order_id', 'store_id', 'channel_id', 'payment_order_id',\n",
       "       'delivery_order_id', 'order_status', 'order_amount',\n",
       "       'order_delivery_fee', 'order_delivery_cost', 'order_created_hour',\n",
       "       'order_created_minute', 'order_created_day', 'order_created_month',\n",
       "       'order_created_year', 'order_moment_created', 'order_moment_accepted',\n",
       "       'order_moment_ready', 'order_moment_collected',\n",
       "       'order_moment_in_expedition', 'order_moment_delivering',\n",
       "       'order_moment_delivered', 'order_moment_finished',\n",
       "       'order_metric_collected_time', 'order_metric_paused_time',\n",
       "       'order_metric_production_time', 'order_metric_walking_time',\n",
       "       'order_metric_expediton_speed_time', 'order_metric_transit_time',\n",
       "       'order_metric_cycle_time'],\n",
       "      dtype='object')"
      ]
     },
     "metadata": {},
     "output_type": "display_data"
    },
    {
     "data": {
      "text/plain": [
       "Index(['store_id', 'hub_id', 'store_name', 'store_segment', 'store_plan_price',\n",
       "       'store_latitude', 'store_longitude'],\n",
       "      dtype='object')"
      ]
     },
     "metadata": {},
     "output_type": "display_data"
    }
   ],
   "source": [
    "display(canais.columns)\n",
    "display(entregas.columns)\n",
    "display(motoristas.columns)\n",
    "display(centros_de_distribuicao.columns)\n",
    "display(pagamentos.columns)\n",
    "display(pedidos.columns)\n",
    "display(lojas.columns)"
   ]
  },
  {
   "cell_type": "code",
   "execution_count": 22,
   "id": "86797b44",
   "metadata": {},
   "outputs": [],
   "source": [
    "engine = create_engine('sqlite:///:memory:')"
   ]
  },
  {
   "cell_type": "code",
   "execution_count": 23,
   "id": "f0317d0e",
   "metadata": {},
   "outputs": [
    {
     "data": {
      "text/plain": [
       "951"
      ]
     },
     "execution_count": 23,
     "metadata": {},
     "output_type": "execute_result"
    }
   ],
   "source": [
    "canais.to_sql('canais',engine,index=False)\n",
    "entregas.to_sql('entregas',engine,index=False)\n",
    "motoristas.to_sql('motoristas',engine,index=False)\n",
    "centros_de_distribuicao.to_sql('centros_de_distribuicao',engine,index=False)\n",
    "pagamentos.to_sql('pagamentos',engine,index=False)\n",
    "pedidos.to_sql('pedidos',engine,index=False)\n",
    "lojas.to_sql('lojas',engine,index=False)"
   ]
  },
  {
   "cell_type": "code",
   "execution_count": 24,
   "id": "df7a4679",
   "metadata": {},
   "outputs": [
    {
     "name": "stdout",
     "output_type": "stream",
     "text": [
      "['canais', 'centros_de_distribuicao', 'entregas', 'lojas', 'motoristas', 'pagamentos', 'pedidos']\n"
     ]
    }
   ],
   "source": [
    "inspector = inspect(engine)\n",
    "print(inspector.get_table_names())"
   ]
  },
  {
   "cell_type": "markdown",
   "id": "dee49860",
   "metadata": {},
   "source": [
    "# <font color=\"#FFA17A\" style=\"font-size: 30px;\">Análise de Dados</font>\n",
    "<hr style=\"border: 2px solid #FFA17A;\">"
   ]
  },
  {
   "cell_type": "code",
   "execution_count": 25,
   "id": "675d0700",
   "metadata": {},
   "outputs": [],
   "source": [
    "# Função que irá fazer a consulta SQL e retornar o dataframe\n",
    "\n",
    "def sql_df(query):\n",
    "  with engine.connect() as conexao:\n",
    "    consulta = conexao.execute(text(query))\n",
    "    dados = consulta.fetchall()\n",
    "  return pd.DataFrame(dados,columns=consulta.keys())"
   ]
  },
  {
   "cell_type": "code",
   "execution_count": 28,
   "id": "fb636718",
   "metadata": {},
   "outputs": [
    {
     "data": {
      "text/html": [
       "<div>\n",
       "<style scoped>\n",
       "    .dataframe tbody tr th:only-of-type {\n",
       "        vertical-align: middle;\n",
       "    }\n",
       "\n",
       "    .dataframe tbody tr th {\n",
       "        vertical-align: top;\n",
       "    }\n",
       "\n",
       "    .dataframe thead th {\n",
       "        text-align: right;\n",
       "    }\n",
       "</style>\n",
       "<table border=\"1\" class=\"dataframe\">\n",
       "  <thead>\n",
       "    <tr style=\"text-align: right;\">\n",
       "      <th></th>\n",
       "      <th>delivery_id</th>\n",
       "      <th>delivery_order_id</th>\n",
       "      <th>driver_id</th>\n",
       "      <th>delivery_distance_meters</th>\n",
       "      <th>delivery_status</th>\n",
       "    </tr>\n",
       "  </thead>\n",
       "  <tbody>\n",
       "    <tr>\n",
       "      <th>0</th>\n",
       "      <td>2174658</td>\n",
       "      <td>68413340</td>\n",
       "      <td>8378.0</td>\n",
       "      <td>5199.0</td>\n",
       "      <td>DELIVERED</td>\n",
       "    </tr>\n",
       "    <tr>\n",
       "      <th>1</th>\n",
       "      <td>2174660</td>\n",
       "      <td>68414309</td>\n",
       "      <td>2473.0</td>\n",
       "      <td>410.0</td>\n",
       "      <td>DELIVERED</td>\n",
       "    </tr>\n",
       "    <tr>\n",
       "      <th>2</th>\n",
       "      <td>2174661</td>\n",
       "      <td>68416230</td>\n",
       "      <td>7615.0</td>\n",
       "      <td>3784.0</td>\n",
       "      <td>DELIVERED</td>\n",
       "    </tr>\n",
       "    <tr>\n",
       "      <th>3</th>\n",
       "      <td>2174663</td>\n",
       "      <td>68412721</td>\n",
       "      <td>8378.0</td>\n",
       "      <td>5714.0</td>\n",
       "      <td>DELIVERED</td>\n",
       "    </tr>\n",
       "  </tbody>\n",
       "</table>\n",
       "</div>"
      ],
      "text/plain": [
       "   delivery_id  delivery_order_id  driver_id  delivery_distance_meters  \\\n",
       "0      2174658           68413340     8378.0                    5199.0   \n",
       "1      2174660           68414309     2473.0                     410.0   \n",
       "2      2174661           68416230     7615.0                    3784.0   \n",
       "3      2174663           68412721     8378.0                    5714.0   \n",
       "\n",
       "  delivery_status  \n",
       "0       DELIVERED  \n",
       "1       DELIVERED  \n",
       "2       DELIVERED  \n",
       "3       DELIVERED  "
      ]
     },
     "execution_count": 28,
     "metadata": {},
     "output_type": "execute_result"
    }
   ],
   "source": [
    "query = '''SELECT * FROM ENTREGAS'''\n",
    "\n",
    "sql_df(query).head(4)"
   ]
  },
  {
   "cell_type": "markdown",
   "id": "4a814656",
   "metadata": {},
   "source": [
    "## Quais motoristas pecorreram maiores distâncias\n",
    "<hr style=\"border: 2px solid #FFA17A;\">"
   ]
  },
  {
   "cell_type": "code",
   "execution_count": 67,
   "id": "d0ca5389",
   "metadata": {},
   "outputs": [
    {
     "data": {
      "text/html": [
       "<div>\n",
       "<style scoped>\n",
       "    .dataframe tbody tr th:only-of-type {\n",
       "        vertical-align: middle;\n",
       "    }\n",
       "\n",
       "    .dataframe tbody tr th {\n",
       "        vertical-align: top;\n",
       "    }\n",
       "\n",
       "    .dataframe thead th {\n",
       "        text-align: right;\n",
       "    }\n",
       "</style>\n",
       "<table border=\"1\" class=\"dataframe\">\n",
       "  <thead>\n",
       "    <tr style=\"text-align: right;\">\n",
       "      <th></th>\n",
       "      <th>driver_id</th>\n",
       "      <th>driver_modal</th>\n",
       "      <th>DISTANCIA_TOTAL</th>\n",
       "    </tr>\n",
       "  </thead>\n",
       "  <tbody>\n",
       "    <tr>\n",
       "      <th>4579</th>\n",
       "      <td>17749</td>\n",
       "      <td>MOTOBOY</td>\n",
       "      <td>8060048.0</td>\n",
       "    </tr>\n",
       "    <tr>\n",
       "      <th>4580</th>\n",
       "      <td>15898</td>\n",
       "      <td>MOTOBOY</td>\n",
       "      <td>8209339.0</td>\n",
       "    </tr>\n",
       "    <tr>\n",
       "      <th>4581</th>\n",
       "      <td>25651</td>\n",
       "      <td>MOTOBOY</td>\n",
       "      <td>32466086.0</td>\n",
       "    </tr>\n",
       "    <tr>\n",
       "      <th>4582</th>\n",
       "      <td>26223</td>\n",
       "      <td>MOTOBOY</td>\n",
       "      <td>60504610.0</td>\n",
       "    </tr>\n",
       "  </tbody>\n",
       "</table>\n",
       "</div>"
      ],
      "text/plain": [
       "      driver_id driver_modal  DISTANCIA_TOTAL\n",
       "4579      17749      MOTOBOY        8060048.0\n",
       "4580      15898      MOTOBOY        8209339.0\n",
       "4581      25651      MOTOBOY       32466086.0\n",
       "4582      26223      MOTOBOY       60504610.0"
      ]
     },
     "execution_count": 67,
     "metadata": {},
     "output_type": "execute_result"
    }
   ],
   "source": [
    "query = '''SELECT  MOTORISTAS.driver_id, MOTORISTAS.driver_modal, SUM(ENTREGAS.delivery_distance_meters) AS DISTANCIA_TOTAL \n",
    "FROM MOTORISTAS\n",
    "JOIN ENTREGAS ON ENTREGAS.driver_id = MOTORISTAS.driver_id\n",
    "GROUP BY MOTORISTAS.driver_id\n",
    "ORDER BY DISTANCIA_TOTAL ASC\n",
    "'''\n",
    "\n",
    "dist_motoristas = sql_df(query)\n",
    "dist_motoristas.tail(4)"
   ]
  },
  {
   "cell_type": "markdown",
   "id": "0a084175",
   "metadata": {},
   "source": [
    "---\n",
    "## Os entregadores que percorreram as maiores distâncias são os de ID igual a '26223', '25651', '15898'. Todos eles utilizam o motocicletas como veículos\n",
    "---"
   ]
  },
  {
   "cell_type": "markdown",
   "id": "b86ebf1e-4cd6-4bb6-a3ca-0809ceaae79c",
   "metadata": {},
   "source": [
    "['canais', 'centros_de_distribuicao', 'entregas', 'lojas', 'motoristas', 'pagamentos', 'pedidos']"
   ]
  },
  {
   "cell_type": "code",
   "execution_count": 30,
   "id": "10bd2d03",
   "metadata": {},
   "outputs": [
    {
     "data": {
      "text/html": [
       "<div>\n",
       "<style scoped>\n",
       "    .dataframe tbody tr th:only-of-type {\n",
       "        vertical-align: middle;\n",
       "    }\n",
       "\n",
       "    .dataframe tbody tr th {\n",
       "        vertical-align: top;\n",
       "    }\n",
       "\n",
       "    .dataframe thead th {\n",
       "        text-align: right;\n",
       "    }\n",
       "</style>\n",
       "<table border=\"1\" class=\"dataframe\">\n",
       "  <thead>\n",
       "    <tr style=\"text-align: right;\">\n",
       "      <th></th>\n",
       "      <th>order_id</th>\n",
       "      <th>store_id</th>\n",
       "      <th>channel_id</th>\n",
       "      <th>payment_order_id</th>\n",
       "      <th>delivery_order_id</th>\n",
       "      <th>order_status</th>\n",
       "      <th>order_amount</th>\n",
       "      <th>order_delivery_fee</th>\n",
       "      <th>order_delivery_cost</th>\n",
       "      <th>order_created_hour</th>\n",
       "      <th>...</th>\n",
       "      <th>order_moment_delivering</th>\n",
       "      <th>order_moment_delivered</th>\n",
       "      <th>order_moment_finished</th>\n",
       "      <th>order_metric_collected_time</th>\n",
       "      <th>order_metric_paused_time</th>\n",
       "      <th>order_metric_production_time</th>\n",
       "      <th>order_metric_walking_time</th>\n",
       "      <th>order_metric_expediton_speed_time</th>\n",
       "      <th>order_metric_transit_time</th>\n",
       "      <th>order_metric_cycle_time</th>\n",
       "    </tr>\n",
       "  </thead>\n",
       "  <tbody>\n",
       "    <tr>\n",
       "      <th>0</th>\n",
       "      <td>68405119</td>\n",
       "      <td>3512</td>\n",
       "      <td>5</td>\n",
       "      <td>68405119</td>\n",
       "      <td>68405119</td>\n",
       "      <td>CANCELED</td>\n",
       "      <td>62.7</td>\n",
       "      <td>0.0</td>\n",
       "      <td>NaN</td>\n",
       "      <td>0</td>\n",
       "      <td>...</td>\n",
       "      <td>None</td>\n",
       "      <td>None</td>\n",
       "      <td>None</td>\n",
       "      <td>NaN</td>\n",
       "      <td>NaN</td>\n",
       "      <td>NaN</td>\n",
       "      <td>NaN</td>\n",
       "      <td>NaN</td>\n",
       "      <td>NaN</td>\n",
       "      <td>NaN</td>\n",
       "    </tr>\n",
       "    <tr>\n",
       "      <th>1</th>\n",
       "      <td>68405123</td>\n",
       "      <td>3512</td>\n",
       "      <td>5</td>\n",
       "      <td>68405123</td>\n",
       "      <td>68405123</td>\n",
       "      <td>CANCELED</td>\n",
       "      <td>62.7</td>\n",
       "      <td>0.0</td>\n",
       "      <td>NaN</td>\n",
       "      <td>0</td>\n",
       "      <td>...</td>\n",
       "      <td>None</td>\n",
       "      <td>None</td>\n",
       "      <td>None</td>\n",
       "      <td>NaN</td>\n",
       "      <td>NaN</td>\n",
       "      <td>NaN</td>\n",
       "      <td>NaN</td>\n",
       "      <td>NaN</td>\n",
       "      <td>NaN</td>\n",
       "      <td>NaN</td>\n",
       "    </tr>\n",
       "    <tr>\n",
       "      <th>2</th>\n",
       "      <td>68405206</td>\n",
       "      <td>3512</td>\n",
       "      <td>5</td>\n",
       "      <td>68405206</td>\n",
       "      <td>68405206</td>\n",
       "      <td>CANCELED</td>\n",
       "      <td>115.5</td>\n",
       "      <td>0.0</td>\n",
       "      <td>NaN</td>\n",
       "      <td>0</td>\n",
       "      <td>...</td>\n",
       "      <td>None</td>\n",
       "      <td>None</td>\n",
       "      <td>None</td>\n",
       "      <td>NaN</td>\n",
       "      <td>NaN</td>\n",
       "      <td>NaN</td>\n",
       "      <td>NaN</td>\n",
       "      <td>NaN</td>\n",
       "      <td>NaN</td>\n",
       "      <td>NaN</td>\n",
       "    </tr>\n",
       "    <tr>\n",
       "      <th>3</th>\n",
       "      <td>68405465</td>\n",
       "      <td>3401</td>\n",
       "      <td>5</td>\n",
       "      <td>68405465</td>\n",
       "      <td>68405465</td>\n",
       "      <td>CANCELED</td>\n",
       "      <td>55.9</td>\n",
       "      <td>0.0</td>\n",
       "      <td>NaN</td>\n",
       "      <td>0</td>\n",
       "      <td>...</td>\n",
       "      <td>None</td>\n",
       "      <td>None</td>\n",
       "      <td>None</td>\n",
       "      <td>NaN</td>\n",
       "      <td>NaN</td>\n",
       "      <td>NaN</td>\n",
       "      <td>NaN</td>\n",
       "      <td>NaN</td>\n",
       "      <td>NaN</td>\n",
       "      <td>NaN</td>\n",
       "    </tr>\n",
       "  </tbody>\n",
       "</table>\n",
       "<p>4 rows × 29 columns</p>\n",
       "</div>"
      ],
      "text/plain": [
       "   order_id  store_id  channel_id  payment_order_id  delivery_order_id  \\\n",
       "0  68405119      3512           5          68405119           68405119   \n",
       "1  68405123      3512           5          68405123           68405123   \n",
       "2  68405206      3512           5          68405206           68405206   \n",
       "3  68405465      3401           5          68405465           68405465   \n",
       "\n",
       "  order_status  order_amount  order_delivery_fee  order_delivery_cost  \\\n",
       "0     CANCELED          62.7                 0.0                  NaN   \n",
       "1     CANCELED          62.7                 0.0                  NaN   \n",
       "2     CANCELED         115.5                 0.0                  NaN   \n",
       "3     CANCELED          55.9                 0.0                  NaN   \n",
       "\n",
       "   order_created_hour  ...  order_moment_delivering  order_moment_delivered  \\\n",
       "0                   0  ...                     None                    None   \n",
       "1                   0  ...                     None                    None   \n",
       "2                   0  ...                     None                    None   \n",
       "3                   0  ...                     None                    None   \n",
       "\n",
       "   order_moment_finished  order_metric_collected_time  \\\n",
       "0                   None                          NaN   \n",
       "1                   None                          NaN   \n",
       "2                   None                          NaN   \n",
       "3                   None                          NaN   \n",
       "\n",
       "  order_metric_paused_time order_metric_production_time  \\\n",
       "0                      NaN                          NaN   \n",
       "1                      NaN                          NaN   \n",
       "2                      NaN                          NaN   \n",
       "3                      NaN                          NaN   \n",
       "\n",
       "  order_metric_walking_time order_metric_expediton_speed_time  \\\n",
       "0                       NaN                               NaN   \n",
       "1                       NaN                               NaN   \n",
       "2                       NaN                               NaN   \n",
       "3                       NaN                               NaN   \n",
       "\n",
       "  order_metric_transit_time order_metric_cycle_time  \n",
       "0                       NaN                     NaN  \n",
       "1                       NaN                     NaN  \n",
       "2                       NaN                     NaN  \n",
       "3                       NaN                     NaN  \n",
       "\n",
       "[4 rows x 29 columns]"
      ]
     },
     "metadata": {},
     "output_type": "display_data"
    },
    {
     "data": {
      "text/html": [
       "<div>\n",
       "<style scoped>\n",
       "    .dataframe tbody tr th:only-of-type {\n",
       "        vertical-align: middle;\n",
       "    }\n",
       "\n",
       "    .dataframe tbody tr th {\n",
       "        vertical-align: top;\n",
       "    }\n",
       "\n",
       "    .dataframe thead th {\n",
       "        text-align: right;\n",
       "    }\n",
       "</style>\n",
       "<table border=\"1\" class=\"dataframe\">\n",
       "  <thead>\n",
       "    <tr style=\"text-align: right;\">\n",
       "      <th></th>\n",
       "      <th>payment_id</th>\n",
       "      <th>payment_order_id</th>\n",
       "      <th>payment_amount</th>\n",
       "      <th>payment_fee</th>\n",
       "      <th>payment_method</th>\n",
       "      <th>payment_status</th>\n",
       "    </tr>\n",
       "  </thead>\n",
       "  <tbody>\n",
       "    <tr>\n",
       "      <th>0</th>\n",
       "      <td>4427917</td>\n",
       "      <td>68410055</td>\n",
       "      <td>118.44</td>\n",
       "      <td>0.00</td>\n",
       "      <td>VOUCHER</td>\n",
       "      <td>PAID</td>\n",
       "    </tr>\n",
       "    <tr>\n",
       "      <th>1</th>\n",
       "      <td>4427918</td>\n",
       "      <td>68410055</td>\n",
       "      <td>394.81</td>\n",
       "      <td>7.90</td>\n",
       "      <td>ONLINE</td>\n",
       "      <td>PAID</td>\n",
       "    </tr>\n",
       "    <tr>\n",
       "      <th>2</th>\n",
       "      <td>4427941</td>\n",
       "      <td>68412721</td>\n",
       "      <td>206.95</td>\n",
       "      <td>5.59</td>\n",
       "      <td>ONLINE</td>\n",
       "      <td>PAID</td>\n",
       "    </tr>\n",
       "    <tr>\n",
       "      <th>3</th>\n",
       "      <td>4427948</td>\n",
       "      <td>68413340</td>\n",
       "      <td>58.80</td>\n",
       "      <td>1.59</td>\n",
       "      <td>ONLINE</td>\n",
       "      <td>PAID</td>\n",
       "    </tr>\n",
       "  </tbody>\n",
       "</table>\n",
       "</div>"
      ],
      "text/plain": [
       "   payment_id  payment_order_id  payment_amount  payment_fee payment_method  \\\n",
       "0     4427917          68410055          118.44         0.00        VOUCHER   \n",
       "1     4427918          68410055          394.81         7.90         ONLINE   \n",
       "2     4427941          68412721          206.95         5.59         ONLINE   \n",
       "3     4427948          68413340           58.80         1.59         ONLINE   \n",
       "\n",
       "  payment_status  \n",
       "0           PAID  \n",
       "1           PAID  \n",
       "2           PAID  \n",
       "3           PAID  "
      ]
     },
     "metadata": {},
     "output_type": "display_data"
    }
   ],
   "source": [
    "query = '''SELECT * FROM PEDIDOS'''\n",
    "\n",
    "display(sql_df(query).head(4))\n",
    "\n",
    "query = '''SELECT * FROM PAGAMENTOS'''\n",
    "\n",
    "display(sql_df(query).head(4))"
   ]
  },
  {
   "cell_type": "markdown",
   "id": "c6b19297",
   "metadata": {},
   "source": [
    "## Quais os pedidos mais caros realizados?\n",
    "<hr style=\"border: 2px solid #FFA17A;\">"
   ]
  },
  {
   "cell_type": "code",
   "execution_count": 33,
   "id": "893cb03e-838a-493b-a083-da0851d1b48b",
   "metadata": {},
   "outputs": [
    {
     "data": {
      "text/html": [
       "<div>\n",
       "<style scoped>\n",
       "    .dataframe tbody tr th:only-of-type {\n",
       "        vertical-align: middle;\n",
       "    }\n",
       "\n",
       "    .dataframe tbody tr th {\n",
       "        vertical-align: top;\n",
       "    }\n",
       "\n",
       "    .dataframe thead th {\n",
       "        text-align: right;\n",
       "    }\n",
       "</style>\n",
       "<table border=\"1\" class=\"dataframe\">\n",
       "  <thead>\n",
       "    <tr style=\"text-align: right;\">\n",
       "      <th></th>\n",
       "      <th>payment_order_id</th>\n",
       "      <th>VALOR_DO_PEDIDO</th>\n",
       "      <th>VALOR_DO_PAGAMENTO</th>\n",
       "    </tr>\n",
       "  </thead>\n",
       "  <tbody>\n",
       "    <tr>\n",
       "      <th>0</th>\n",
       "      <td>93127697</td>\n",
       "      <td>100000.11</td>\n",
       "      <td>100000.11</td>\n",
       "    </tr>\n",
       "    <tr>\n",
       "      <th>1</th>\n",
       "      <td>87203888</td>\n",
       "      <td>25000.00</td>\n",
       "      <td>25000.00</td>\n",
       "    </tr>\n",
       "    <tr>\n",
       "      <th>2</th>\n",
       "      <td>87201782</td>\n",
       "      <td>20000.00</td>\n",
       "      <td>20000.00</td>\n",
       "    </tr>\n",
       "    <tr>\n",
       "      <th>3</th>\n",
       "      <td>84783840</td>\n",
       "      <td>15962.00</td>\n",
       "      <td>15962.00</td>\n",
       "    </tr>\n",
       "    <tr>\n",
       "      <th>4</th>\n",
       "      <td>90195104</td>\n",
       "      <td>15000.00</td>\n",
       "      <td>15000.00</td>\n",
       "    </tr>\n",
       "    <tr>\n",
       "      <th>...</th>\n",
       "      <td>...</td>\n",
       "      <td>...</td>\n",
       "      <td>...</td>\n",
       "    </tr>\n",
       "    <tr>\n",
       "      <th>400829</th>\n",
       "      <td>87556769</td>\n",
       "      <td>0.00</td>\n",
       "      <td>20.00</td>\n",
       "    </tr>\n",
       "    <tr>\n",
       "      <th>400830</th>\n",
       "      <td>87886648</td>\n",
       "      <td>0.00</td>\n",
       "      <td>9.90</td>\n",
       "    </tr>\n",
       "    <tr>\n",
       "      <th>400831</th>\n",
       "      <td>88278667</td>\n",
       "      <td>0.00</td>\n",
       "      <td>9.90</td>\n",
       "    </tr>\n",
       "    <tr>\n",
       "      <th>400832</th>\n",
       "      <td>88395319</td>\n",
       "      <td>0.00</td>\n",
       "      <td>9.90</td>\n",
       "    </tr>\n",
       "    <tr>\n",
       "      <th>400833</th>\n",
       "      <td>88449319</td>\n",
       "      <td>0.00</td>\n",
       "      <td>9.90</td>\n",
       "    </tr>\n",
       "  </tbody>\n",
       "</table>\n",
       "<p>400834 rows × 3 columns</p>\n",
       "</div>"
      ],
      "text/plain": [
       "        payment_order_id  VALOR_DO_PEDIDO  VALOR_DO_PAGAMENTO\n",
       "0               93127697        100000.11           100000.11\n",
       "1               87203888         25000.00            25000.00\n",
       "2               87201782         20000.00            20000.00\n",
       "3               84783840         15962.00            15962.00\n",
       "4               90195104         15000.00            15000.00\n",
       "...                  ...              ...                 ...\n",
       "400829          87556769             0.00               20.00\n",
       "400830          87886648             0.00                9.90\n",
       "400831          88278667             0.00                9.90\n",
       "400832          88395319             0.00                9.90\n",
       "400833          88449319             0.00                9.90\n",
       "\n",
       "[400834 rows x 3 columns]"
      ]
     },
     "metadata": {},
     "output_type": "display_data"
    }
   ],
   "source": [
    "query = '''SELECT PEDIDOS.payment_order_id, PEDIDOS.order_amount AS VALOR_DO_PEDIDO, PAGAMENTOS.payment_amount AS VALOR_DO_PAGAMENTO\n",
    "FROM PEDIDOS\n",
    "JOIN PAGAMENTOS ON PEDIDOS.payment_order_id == PAGAMENTOS.payment_order_id\n",
    "ORDER BY VALOR_DO_PEDIDO DESC\n",
    "'''\n",
    "\n",
    "display(sql_df(query))"
   ]
  },
  {
   "cell_type": "markdown",
   "id": "9973c319",
   "metadata": {},
   "source": [
    "---\n",
    "## PODEMOS NOTAR QUE ALGUNS VALORES FALTA NA COLUNA VALOR_DO_PEDIDO E EXISTEM NA VALOR_DO_PAGAMENTO. VAMOS ENTÃO USAR ESS ÚLTIMA.\n",
    "---"
   ]
  },
  {
   "cell_type": "code",
   "execution_count": 56,
   "id": "4508a4d9",
   "metadata": {},
   "outputs": [
    {
     "data": {
      "text/html": [
       "<div>\n",
       "<style scoped>\n",
       "    .dataframe tbody tr th:only-of-type {\n",
       "        vertical-align: middle;\n",
       "    }\n",
       "\n",
       "    .dataframe tbody tr th {\n",
       "        vertical-align: top;\n",
       "    }\n",
       "\n",
       "    .dataframe thead th {\n",
       "        text-align: right;\n",
       "    }\n",
       "</style>\n",
       "<table border=\"1\" class=\"dataframe\">\n",
       "  <thead>\n",
       "    <tr style=\"text-align: right;\">\n",
       "      <th></th>\n",
       "      <th>ID_PAGAMENTO</th>\n",
       "      <th>VALOR_DO_PAGAMENTO</th>\n",
       "    </tr>\n",
       "  </thead>\n",
       "  <tbody>\n",
       "    <tr>\n",
       "      <th>0</th>\n",
       "      <td>93127697</td>\n",
       "      <td>100000.11</td>\n",
       "    </tr>\n",
       "    <tr>\n",
       "      <th>1</th>\n",
       "      <td>87203888</td>\n",
       "      <td>25000.00</td>\n",
       "    </tr>\n",
       "    <tr>\n",
       "      <th>2</th>\n",
       "      <td>87201782</td>\n",
       "      <td>20000.00</td>\n",
       "    </tr>\n",
       "    <tr>\n",
       "      <th>3</th>\n",
       "      <td>84783840</td>\n",
       "      <td>15962.00</td>\n",
       "    </tr>\n",
       "    <tr>\n",
       "      <th>4</th>\n",
       "      <td>90195104</td>\n",
       "      <td>15000.00</td>\n",
       "    </tr>\n",
       "  </tbody>\n",
       "</table>\n",
       "</div>"
      ],
      "text/plain": [
       "   ID_PAGAMENTO  VALOR_DO_PAGAMENTO\n",
       "0      93127697           100000.11\n",
       "1      87203888            25000.00\n",
       "2      87201782            20000.00\n",
       "3      84783840            15962.00\n",
       "4      90195104            15000.00"
      ]
     },
     "execution_count": 56,
     "metadata": {},
     "output_type": "execute_result"
    }
   ],
   "source": [
    "query = '''SELECT PEDIDOS.payment_order_id AS ID_PAGAMENTO, PAGAMENTOS.payment_amount AS VALOR_DO_PAGAMENTO\n",
    "FROM PEDIDOS\n",
    "JOIN PAGAMENTOS ON PEDIDOS.payment_order_id == PAGAMENTOS.payment_order_id\n",
    "ORDER BY VALOR_DO_PAGAMENTO DESC\n",
    "'''\n",
    "\n",
    "valor_pagamento = sql_df(query).head(5)\n",
    "valor_pagamento"
   ]
  },
  {
   "cell_type": "markdown",
   "id": "a264b1b5",
   "metadata": {},
   "source": [
    "## Representar gráficamente estes resultados\n",
    "<hr style=\"border: 2px solid #FFA17A;\">"
   ]
  },
  {
   "cell_type": "code",
   "execution_count": 57,
   "id": "332ffe34",
   "metadata": {},
   "outputs": [
    {
     "data": {
      "image/png": "[encoded data removed]",
      "text/plain": [
       "<Figure size 1000x600 with 1 Axes>"
      ]
     },
     "metadata": {},
     "output_type": "display_data"
    }
   ],
   "source": [
    "plt.figure(figsize=(10, 6))\n",
    "\n",
    "plt.bar(x=valor_pagamento.index, height = valor_pagamento['VALOR_DO_PAGAMENTO'])\n",
    "\n",
    "plt.show()"
   ]
  },
  {
   "cell_type": "code",
   "execution_count": 68,
   "id": "fc3e2fac",
   "metadata": {},
   "outputs": [
    {
     "data": {
      "image/png": "[encoded data removed]",
      "text/plain": [
       "<Figure size 1000x600 with 1 Axes>"
      ]
     },
     "metadata": {},
     "output_type": "display_data"
    }
   ],
   "source": [
    "plt.figure(figsize=(10, 6))\n",
    "\n",
    "plt.barh(width=dist_motoristas['DISTANCIA_TOTAL'].tail(5), y =dist_motoristas.tail(5).index )\n",
    "\n",
    "plt.show()"
   ]
  },
  {
   "cell_type": "markdown",
   "id": "aedafe70",
   "metadata": {},
   "source": [
    "## QUANTOS SÃO OS PEDIDOS CANCELADOS E OS ENTREGUES?\n",
    "<hr style=\"border: 2px solid #FFA17A;\">"
   ]
  },
  {
   "cell_type": "code",
   "execution_count": 71,
   "id": "40214eb2",
   "metadata": {},
   "outputs": [
    {
     "data": {
      "text/html": [
       "<div>\n",
       "<style scoped>\n",
       "    .dataframe tbody tr th:only-of-type {\n",
       "        vertical-align: middle;\n",
       "    }\n",
       "\n",
       "    .dataframe tbody tr th {\n",
       "        vertical-align: top;\n",
       "    }\n",
       "\n",
       "    .dataframe thead th {\n",
       "        text-align: right;\n",
       "    }\n",
       "</style>\n",
       "<table border=\"1\" class=\"dataframe\">\n",
       "  <thead>\n",
       "    <tr style=\"text-align: right;\">\n",
       "      <th></th>\n",
       "      <th>STATUS</th>\n",
       "      <th>QUANTIDADE</th>\n",
       "    </tr>\n",
       "  </thead>\n",
       "  <tbody>\n",
       "    <tr>\n",
       "      <th>0</th>\n",
       "      <td>FINISHED</td>\n",
       "      <td>352020</td>\n",
       "    </tr>\n",
       "    <tr>\n",
       "      <th>1</th>\n",
       "      <td>CANCELED</td>\n",
       "      <td>16979</td>\n",
       "    </tr>\n",
       "  </tbody>\n",
       "</table>\n",
       "</div>"
      ],
      "text/plain": [
       "     STATUS  QUANTIDADE\n",
       "0  FINISHED      352020\n",
       "1  CANCELED       16979"
      ]
     },
     "execution_count": 71,
     "metadata": {},
     "output_type": "execute_result"
    }
   ],
   "source": [
    "query = ''' SELECT PEDIDOS.order_status AS STATUS, COUNT(*) AS QUANTIDADE FROM PEDIDOS\n",
    "GROUP BY PEDIDOS.order_statuS\n",
    "ORDER BY QUANTIDADE DESC\n",
    "'''\n",
    "\n",
    "pedidos_status = sql_df(query).head(5)\n",
    "pedidos_status"
   ]
  },
  {
   "cell_type": "code",
   "execution_count": 72,
   "id": "46c07c28",
   "metadata": {},
   "outputs": [
    {
     "data": {
      "image/png": "[encoded data removed]",
      "text/plain": [
       "<Figure size 1000x600 with 1 Axes>"
      ]
     },
     "metadata": {},
     "output_type": "display_data"
    }
   ],
   "source": [
    "plt.figure(figsize=(10, 6))\n",
    "\n",
    "plt.barh(width=pedidos_status['QUANTIDADE'], y =pedidos_status['STATUS'] )\n",
    "\n",
    "plt.show()"
   ]
  },
  {
   "cell_type": "code",
   "execution_count": null,
   "id": "80fb3c5d",
   "metadata": {},
   "outputs": [],
   "source": []
  }
 ],
 "metadata": {
  "kernelspec": {
   "display_name": "Python 3 (ipykernel)",
   "language": "python",
   "name": "python3"
  },
  "language_info": {
   "codemirror_mode": {
    "name": "ipython",
    "version": 3
   },
   "file_extension": ".py",
   "mimetype": "text/x-python",
   "name": "python",
   "nbconvert_exporter": "python",
   "pygments_lexer": "ipython3",
   "version": "3.11.3"
  }
 },
 "nbformat": 4,
 "nbformat_minor": 5
}
