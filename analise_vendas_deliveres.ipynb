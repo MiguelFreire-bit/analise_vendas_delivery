{
 "cells": [
  {
   "cell_type": "markdown",
   "id": "e2922434",
   "metadata": {},
   "source": [
    "<h1 style='color: #00A78C; font-size: 34px; font-weight: bold;'>Analise Vendas Delivery\n",
    "\n",
    "\n",
    "</h1>\n"
   ]
  },
  {
   "cell_type": "markdown",
   "id": "c9b8235b",
   "metadata": {},
   "source": [
    "# <font color=\"#FFA17A\" style=\"font-size: 30px;\">Objetivo</font>\n",
    "<hr style=\"border: 2px solid #FFA17A;\">"
   ]
  },
  {
   "cell_type": "markdown",
   "id": "d3f9f4ee",
   "metadata": {},
   "source": [
    " <p style='font-size: 23px; line-height: 2; margin: 0px 0px; text-align: justify; text-indent: 0px;'>    \n",
    "<i><b>Utilizar comandos SQL para realizar análises conjuntas em um banco de dados com informações diversas sobre vendas de sucos</b></i>     \n",
    "</p>\n",
    "\n",
    "---"
   ]
  },
  {
   "cell_type": "code",
   "execution_count": 3,
   "id": "942e076f",
   "metadata": {},
   "outputs": [],
   "source": [
    "# importando bibliotecas necessárias"
   ]
  },
  {
   "cell_type": "code",
   "execution_count": 27,
   "id": "4e51f92d",
   "metadata": {},
   "outputs": [],
   "source": [
    "import pandas as pd\n",
    "import matplotlib.pyplot as plt\n",
    "import numpy as np\n",
    "import os\n",
    "from datetime import datetime\n",
    "from sqlalchemy import create_engine, MetaData, Table, select"
   ]
  },
  {
   "cell_type": "code",
   "execution_count": 28,
   "id": "dcd4c91f",
   "metadata": {},
   "outputs": [
    {
     "name": "stdout",
     "output_type": "stream",
     "text": [
      "Requirement already satisfied: pymysql in c:\\users\\migue\\anaconda3\\lib\\site-packages (1.1.0)\n"
     ]
    }
   ],
   "source": [
    "!pip install pymysql"
   ]
  },
  {
   "cell_type": "code",
   "execution_count": 43,
   "id": "41c3331c",
   "metadata": {},
   "outputs": [],
   "source": [
    "caminhos = [os.path.join(\"Tabelas\", \"channels.csv\"),\n",
    "os.path.join(\"Tabelas\", \"deliveries.csv\"),\n",
    "os.path.join(\"Tabelas\", \"drivers.csv\"),\n",
    "os.path.join(\"Tabelas\", \"hubs.csv\"),\n",
    "os.path.join(\"Tabelas\", \"payments.csv\"),\n",
    "os.path.join(\"Tabelas\", \"orders.csv\"),\n",
    "os.path.join(\"Tabelas\", \"stores.csv\")]\n",
    "\n",
    "dataframes = []\n"
   ]
  },
  {
   "cell_type": "code",
   "execution_count": 101,
   "id": "9f3f654d",
   "metadata": {
    "scrolled": true
   },
   "outputs": [],
   "source": [
    "canais =  pd.read_csv(caminhos[0])\n",
    "entregas = pd.read_csv(caminhos[1])\n",
    "motoristas = pd.read_csv(caminhos[2])\n",
    "centros_de_distribuicao = pd.read_csv(caminhos[3], encoding='latin-1')\n",
    "pagamentos = pd.read_csv(caminhos[4])\n",
    "pedidos = pd.read_csv(caminhos[5])\n",
    "lojas =pd.read_csv(caminhos[6],  encoding='latin-1')"
   ]
  },
  {
   "cell_type": "code",
   "execution_count": 106,
   "id": "7c01b6a5",
   "metadata": {},
   "outputs": [
    {
     "data": {
      "text/plain": [
       "Index(['channel_id', 'channel_name', 'channel_type'], dtype='object')"
      ]
     },
     "metadata": {},
     "output_type": "display_data"
    },
    {
     "data": {
      "text/plain": [
       "Index(['delivery_id', 'delivery_order_id', 'driver_id',\n",
       "       'delivery_distance_meters', 'delivery_status'],\n",
       "      dtype='object')"
      ]
     },
     "metadata": {},
     "output_type": "display_data"
    },
    {
     "data": {
      "text/plain": [
       "Index(['driver_id', 'driver_modal', 'driver_type'], dtype='object')"
      ]
     },
     "metadata": {},
     "output_type": "display_data"
    },
    {
     "data": {
      "text/plain": [
       "Index(['hub_id', 'hub_name', 'hub_city', 'hub_state', 'hub_latitude',\n",
       "       'hub_longitude'],\n",
       "      dtype='object')"
      ]
     },
     "metadata": {},
     "output_type": "display_data"
    },
    {
     "data": {
      "text/plain": [
       "Index(['payment_id', 'payment_order_id', 'payment_amount', 'payment_fee',\n",
       "       'payment_method', 'payment_status'],\n",
       "      dtype='object')"
      ]
     },
     "metadata": {},
     "output_type": "display_data"
    },
    {
     "data": {
      "text/plain": [
       "Index(['order_id', 'store_id', 'channel_id', 'payment_order_id',\n",
       "       'delivery_order_id', 'order_status', 'order_amount',\n",
       "       'order_delivery_fee', 'order_delivery_cost', 'order_created_hour',\n",
       "       'order_created_minute', 'order_created_day', 'order_created_month',\n",
       "       'order_created_year', 'order_moment_created', 'order_moment_accepted',\n",
       "       'order_moment_ready', 'order_moment_collected',\n",
       "       'order_moment_in_expedition', 'order_moment_delivering',\n",
       "       'order_moment_delivered', 'order_moment_finished',\n",
       "       'order_metric_collected_time', 'order_metric_paused_time',\n",
       "       'order_metric_production_time', 'order_metric_walking_time',\n",
       "       'order_metric_expediton_speed_time', 'order_metric_transit_time',\n",
       "       'order_metric_cycle_time'],\n",
       "      dtype='object')"
      ]
     },
     "metadata": {},
     "output_type": "display_data"
    },
    {
     "data": {
      "text/plain": [
       "Index(['store_id', 'hub_id', 'store_name', 'store_segment', 'store_plan_price',\n",
       "       'store_latitude', 'store_longitude'],\n",
       "      dtype='object')"
      ]
     },
     "metadata": {},
     "output_type": "display_data"
    }
   ],
   "source": [
    "display(canais.columns)\n",
    "display(entregas.columns)\n",
    "display(motoristas.columns)\n",
    "display(centros_de_distribuicao.columns)\n",
    "display(pagamentos.columns)\n",
    "display(pedidos.columns)\n",
    "display(lojas.columns)"
   ]
  },
  {
   "cell_type": "code",
   "execution_count": 107,
   "id": "290ef2e7",
   "metadata": {},
   "outputs": [],
   "source": [
    "engine = create_engine('sqlite:///:memory:')"
   ]
  },
  {
   "cell_type": "code",
   "execution_count": 108,
   "id": "6db776d8",
   "metadata": {},
   "outputs": [
    {
     "data": {
      "text/plain": [
       "951"
      ]
     },
     "execution_count": 108,
     "metadata": {},
     "output_type": "execute_result"
    }
   ],
   "source": [
    "canais.to_sql('canais',engine,index=False)\n",
    "entregas.to_sql('entregas',engine,index=False)\n",
    "motoristas.to_sql('motoristas',engine,index=False)\n",
    "centros_de_distribuicao.to_sql('centros_de_distribuicao',engine,index=False)\n",
    "pagamentos.to_sql('pagamentos',engine,index=False)\n",
    "pedidos.to_sql('pedidos',engine,index=False)\n",
    "lojas.to_sql('lojas',engine,index=False)"
   ]
  },
  {
   "cell_type": "code",
   "execution_count": 109,
   "id": "b0f46634",
   "metadata": {},
   "outputs": [
    {
     "name": "stdout",
     "output_type": "stream",
     "text": [
      "['canais', 'centros_de_distribuicao', 'entregas', 'lojas', 'motoristas', 'pagamentos', 'pedidos']\n"
     ]
    }
   ],
   "source": [
    "inspector = inspect(engine)\n",
    "print(inspector.get_table_names())"
   ]
  },
  {
   "cell_type": "markdown",
   "id": "1483291d",
   "metadata": {},
   "source": [
    "# <font color=\"#FFA17A\" style=\"font-size: 30px;\">Análise de Dados</font>\n",
    "<hr style=\"border: 2px solid #FFA17A;\">"
   ]
  },
  {
   "cell_type": "code",
   "execution_count": 111,
   "id": "6452613b",
   "metadata": {},
   "outputs": [],
   "source": [
    "# Função que irá fazer a consulta SQL e retornar o dataframe\n",
    "\n",
    "def sql_df(query):\n",
    "  with engine.connect() as conexao:\n",
    "    consulta = conexao.execute(text(query))\n",
    "    dados = consulta.fetchall()\n",
    "  return pd.DataFrame(dados,columns=consulta.keys())"
   ]
  },
  {
   "cell_type": "code",
   "execution_count": 122,
   "id": "a063c5dc",
   "metadata": {},
   "outputs": [
    {
     "data": {
      "text/html": [
       "<div>\n",
       "<style scoped>\n",
       "    .dataframe tbody tr th:only-of-type {\n",
       "        vertical-align: middle;\n",
       "    }\n",
       "\n",
       "    .dataframe tbody tr th {\n",
       "        vertical-align: top;\n",
       "    }\n",
       "\n",
       "    .dataframe thead th {\n",
       "        text-align: right;\n",
       "    }\n",
       "</style>\n",
       "<table border=\"1\" class=\"dataframe\">\n",
       "  <thead>\n",
       "    <tr style=\"text-align: right;\">\n",
       "      <th></th>\n",
       "      <th>delivery_id</th>\n",
       "      <th>delivery_order_id</th>\n",
       "      <th>driver_id</th>\n",
       "      <th>delivery_distance_meters</th>\n",
       "      <th>delivery_status</th>\n",
       "    </tr>\n",
       "  </thead>\n",
       "  <tbody>\n",
       "    <tr>\n",
       "      <th>0</th>\n",
       "      <td>2174658</td>\n",
       "      <td>68413340</td>\n",
       "      <td>8378.0</td>\n",
       "      <td>5199.0</td>\n",
       "      <td>DELIVERED</td>\n",
       "    </tr>\n",
       "    <tr>\n",
       "      <th>1</th>\n",
       "      <td>2174660</td>\n",
       "      <td>68414309</td>\n",
       "      <td>2473.0</td>\n",
       "      <td>410.0</td>\n",
       "      <td>DELIVERED</td>\n",
       "    </tr>\n",
       "    <tr>\n",
       "      <th>2</th>\n",
       "      <td>2174661</td>\n",
       "      <td>68416230</td>\n",
       "      <td>7615.0</td>\n",
       "      <td>3784.0</td>\n",
       "      <td>DELIVERED</td>\n",
       "    </tr>\n",
       "    <tr>\n",
       "      <th>3</th>\n",
       "      <td>2174663</td>\n",
       "      <td>68412721</td>\n",
       "      <td>8378.0</td>\n",
       "      <td>5714.0</td>\n",
       "      <td>DELIVERED</td>\n",
       "    </tr>\n",
       "  </tbody>\n",
       "</table>\n",
       "</div>"
      ],
      "text/plain": [
       "   delivery_id  delivery_order_id  driver_id  delivery_distance_meters  \\\n",
       "0      2174658           68413340     8378.0                    5199.0   \n",
       "1      2174660           68414309     2473.0                     410.0   \n",
       "2      2174661           68416230     7615.0                    3784.0   \n",
       "3      2174663           68412721     8378.0                    5714.0   \n",
       "\n",
       "  delivery_status  \n",
       "0       DELIVERED  \n",
       "1       DELIVERED  \n",
       "2       DELIVERED  \n",
       "3       DELIVERED  "
      ]
     },
     "execution_count": 122,
     "metadata": {},
     "output_type": "execute_result"
    }
   ],
   "source": [
    "query = '''SELECT * FROM ENTREGAS'''\n",
    "\n",
    "sql_df(query).head(4)"
   ]
  },
  {
   "cell_type": "markdown",
   "id": "f68e71d1",
   "metadata": {},
   "source": [
    "## Quais motoristas pecorreram maiores distâncias"
   ]
  },
  {
   "cell_type": "code",
   "execution_count": 142,
   "id": "5a529047",
   "metadata": {},
   "outputs": [
    {
     "data": {
      "text/html": [
       "<div>\n",
       "<style scoped>\n",
       "    .dataframe tbody tr th:only-of-type {\n",
       "        vertical-align: middle;\n",
       "    }\n",
       "\n",
       "    .dataframe tbody tr th {\n",
       "        vertical-align: top;\n",
       "    }\n",
       "\n",
       "    .dataframe thead th {\n",
       "        text-align: right;\n",
       "    }\n",
       "</style>\n",
       "<table border=\"1\" class=\"dataframe\">\n",
       "  <thead>\n",
       "    <tr style=\"text-align: right;\">\n",
       "      <th></th>\n",
       "      <th>driver_id</th>\n",
       "      <th>driver_modal</th>\n",
       "      <th>DISTANCIA_TOTAL</th>\n",
       "    </tr>\n",
       "  </thead>\n",
       "  <tbody>\n",
       "    <tr>\n",
       "      <th>0</th>\n",
       "      <td>26223</td>\n",
       "      <td>MOTOBOY</td>\n",
       "      <td>60504610.0</td>\n",
       "    </tr>\n",
       "    <tr>\n",
       "      <th>1</th>\n",
       "      <td>25651</td>\n",
       "      <td>MOTOBOY</td>\n",
       "      <td>32466086.0</td>\n",
       "    </tr>\n",
       "    <tr>\n",
       "      <th>2</th>\n",
       "      <td>15898</td>\n",
       "      <td>MOTOBOY</td>\n",
       "      <td>8209339.0</td>\n",
       "    </tr>\n",
       "    <tr>\n",
       "      <th>3</th>\n",
       "      <td>17749</td>\n",
       "      <td>MOTOBOY</td>\n",
       "      <td>8060048.0</td>\n",
       "    </tr>\n",
       "  </tbody>\n",
       "</table>\n",
       "</div>"
      ],
      "text/plain": [
       "   driver_id driver_modal  DISTANCIA_TOTAL\n",
       "0      26223      MOTOBOY       60504610.0\n",
       "1      25651      MOTOBOY       32466086.0\n",
       "2      15898      MOTOBOY        8209339.0\n",
       "3      17749      MOTOBOY        8060048.0"
      ]
     },
     "execution_count": 142,
     "metadata": {},
     "output_type": "execute_result"
    }
   ],
   "source": [
    "query = '''SELECT  MOTORISTAS.driver_id, MOTORISTAS.driver_modal, SUM(ENTREGAS.delivery_distance_meters) AS DISTANCIA_TOTAL \n",
    "FROM MOTORISTAS\n",
    "JOIN ENTREGAS ON ENTREGAS.driver_id = MOTORISTAS.driver_id\n",
    "GROUP BY MOTORISTAS.driver_id\n",
    "ORDER BY DISTANCIA_TOTAL DESC\n",
    "'''\n",
    "\n",
    "dist_motoristas = sql_df(query)\n",
    "dist_motoristas.head(4)"
   ]
  },
  {
   "cell_type": "markdown",
   "id": "3d9f3873",
   "metadata": {},
   "source": [
    "---\n",
    "## Os entregadores que percorreram as maiores distâncias são os de ID igual a '26223', '25651', '15898'. Todos eles utilizam o motocicletas como veículos\n",
    "---"
   ]
  },
  {
   "cell_type": "code",
   "execution_count": null,
   "id": "57a7881b",
   "metadata": {},
   "outputs": [],
   "source": []
  },
  {
   "cell_type": "code",
   "execution_count": null,
   "id": "c86bdd90",
   "metadata": {},
   "outputs": [],
   "source": []
  }
 ],
 "metadata": {
  "kernelspec": {
   "display_name": "Python 3 (ipykernel)",
   "language": "python",
   "name": "python3"
  },
  "language_info": {
   "codemirror_mode": {
    "name": "ipython",
    "version": 3
   },
   "file_extension": ".py",
   "mimetype": "text/x-python",
   "name": "python",
   "nbconvert_exporter": "python",
   "pygments_lexer": "ipython3",
   "version": "3.11.3"
  }
 },
 "nbformat": 4,
 "nbformat_minor": 5
}
